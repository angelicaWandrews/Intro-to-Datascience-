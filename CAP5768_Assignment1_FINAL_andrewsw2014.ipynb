{
  "nbformat": 4,
  "nbformat_minor": 0,
  "metadata": {
    "colab": {
      "name": "CAP5768_Assignment1_FINAL-andrewsw2014.ipynb",
      "version": "0.3.2",
      "provenance": [],
      "collapsed_sections": [
        "Sf9JB_ntOKTg"
      ]
    },
    "kernelspec": {
      "display_name": "Python 3",
      "language": "python",
      "name": "python3"
    },
    "language_info": {
      "codemirror_mode": {
        "name": "ipython",
        "version": 3
      },
      "file_extension": ".py",
      "mimetype": "text/x-python",
      "name": "python",
      "nbconvert_exporter": "python",
      "pygments_lexer": "ipython3",
      "version": "3.7.3"
    }
  },
  "cells": [
    {
      "cell_type": "markdown",
      "metadata": {
        "colab_type": "text",
        "id": "p78j872pOKTZ"
      },
      "source": [
        "# CAP 5768 - Data Science - Dr. Marques - Fall 2019"
      ]
    },
    {
      "cell_type": "markdown",
      "metadata": {
        "colab_type": "text",
        "id": "NYmNMHGLOKTa"
      },
      "source": [
        "# Assignment 1: The Python data science stack \n",
        "Name: Whitney Angelica Johanna Andrews\n",
        "## Solutions"
      ]
    },
    {
      "cell_type": "markdown",
      "metadata": {
        "colab_type": "text",
        "id": "9UMnsRndOKTb"
      },
      "source": [
        "### Goals \n",
        "\n",
        "- To get acquainted with Python and Jupyter notebooks.\n",
        "- To acquire a basic understanding of the Python \"data science stack\" (NumPy, Pandas, Matplotlib).\n",
        "- To have an early experience of manipulating, summarizing, and visualizing small datasets. \n",
        "- To demonstrate the ability to write Python code to answer questions and test hypotheses based on the contents of those datasets.\n"
      ]
    },
    {
      "cell_type": "markdown",
      "metadata": {
        "colab_type": "text",
        "id": "B0rEAT7MOKTb"
      },
      "source": [
        "### Instructions\n",
        "\n",
        "- This assignment is structured as a game, with three levels of increasing complexity.\n",
        "- For each level, there will be some Python code to be written and questions to be answered.\n",
        "- At the end, you should export your notebook to PDF format; it will \"automagically\" become your report.\n",
        "- Submit the report (PDF), notebook (.ipynb file), and (optionally) link to the \"live\" version of your solution on Google Colaboratory via Canvas.\n",
        "- The total number of points is 320 (plus up to 44 bonus points), distributed as follows: Level 1 (82 pts), Level 2 (70+ pts), Level 3 (132+ pts) and Conclusions (36 pts)."
      ]
    },
    {
      "cell_type": "markdown",
      "metadata": {
        "colab_type": "text",
        "id": "qiufouQn6OD9"
      },
      "source": [
        "### Important\n",
        "\n",
        "- It is OK to attempt the bonus points, but please **do not overdo it!** \n",
        "- Remember: this is an early exercise in exploring datasets; learning the syntax and \"tricks\" of Python, Jupyter notebooks, Numpy, Pandas, and Matplotlib; and writing code to test simple hypotheses and produce answers to simple questions that **you know you should be able to answer** because the answer can be pulled from the data.\n",
        "- This is not (yet) the time to do sophisticated statistical analysis, train ML models, etc. "
      ]
    },
    {
      "cell_type": "markdown",
      "metadata": {
        "colab_type": "text",
        "id": "ivz9CfpTOKTc"
      },
      "source": [
        "------------\n",
        "## Level 1: Presidents of the USA"
      ]
    },
    {
      "cell_type": "markdown",
      "metadata": {
        "colab_type": "text",
        "id": "F0XHAppiOKTc"
      },
      "source": [
        "The Python code below will load a dataset containing the names of the first 44 presidents of the USA and their heights, available in the file *president_heights.csv*, which is a simple comma-separated list of labels and values."
      ]
    },
    {
      "cell_type": "code",
      "metadata": {
        "id": "oEBNMdMKIiLs",
        "colab_type": "code",
        "colab": {}
      },
      "source": [
        "# Imports\n",
        "import numpy as np\n",
        "import pandas as pd\n",
        "from pandas import DataFrame, Series\n",
        "\n",
        "%matplotlib inline\n",
        "import matplotlib.pyplot as plt\n",
        "import seaborn as sns\n",
        "sns.set\n",
        "\n",
        "from scipy.stats import pearsonr"
      ],
      "execution_count": 0,
      "outputs": []
    },
    {
      "cell_type": "code",
      "metadata": {
        "colab_type": "code",
        "id": "7IhX_GLmOKTd",
        "outputId": "db182542-cd14-4362-ea81-93e862cbb32b",
        "scrolled": true,
        "colab": {
          "base_uri": "https://localhost:8080/",
          "height": 1000
        }
      },
      "source": [
        "file = 'data/president_heights.csv'\n",
        "presidents = pd.read_csv(file) \n",
        "presidents"
      ],
      "execution_count": 0,
      "outputs": [
        {
          "output_type": "execute_result",
          "data": {
            "text/html": [
              "<div>\n",
              "<style scoped>\n",
              "    .dataframe tbody tr th:only-of-type {\n",
              "        vertical-align: middle;\n",
              "    }\n",
              "\n",
              "    .dataframe tbody tr th {\n",
              "        vertical-align: top;\n",
              "    }\n",
              "\n",
              "    .dataframe thead th {\n",
              "        text-align: right;\n",
              "    }\n",
              "</style>\n",
              "<table border=\"1\" class=\"dataframe\">\n",
              "  <thead>\n",
              "    <tr style=\"text-align: right;\">\n",
              "      <th></th>\n",
              "      <th>order</th>\n",
              "      <th>name</th>\n",
              "      <th>height(cm)</th>\n",
              "    </tr>\n",
              "  </thead>\n",
              "  <tbody>\n",
              "    <tr>\n",
              "      <th>0</th>\n",
              "      <td>1</td>\n",
              "      <td>George Washington</td>\n",
              "      <td>189</td>\n",
              "    </tr>\n",
              "    <tr>\n",
              "      <th>1</th>\n",
              "      <td>2</td>\n",
              "      <td>John Adams</td>\n",
              "      <td>170</td>\n",
              "    </tr>\n",
              "    <tr>\n",
              "      <th>2</th>\n",
              "      <td>3</td>\n",
              "      <td>Thomas Jefferson</td>\n",
              "      <td>189</td>\n",
              "    </tr>\n",
              "    <tr>\n",
              "      <th>3</th>\n",
              "      <td>4</td>\n",
              "      <td>James Madison</td>\n",
              "      <td>163</td>\n",
              "    </tr>\n",
              "    <tr>\n",
              "      <th>4</th>\n",
              "      <td>5</td>\n",
              "      <td>James Monroe</td>\n",
              "      <td>183</td>\n",
              "    </tr>\n",
              "    <tr>\n",
              "      <th>5</th>\n",
              "      <td>6</td>\n",
              "      <td>John Quincy Adams</td>\n",
              "      <td>171</td>\n",
              "    </tr>\n",
              "    <tr>\n",
              "      <th>6</th>\n",
              "      <td>7</td>\n",
              "      <td>Andrew Jackson</td>\n",
              "      <td>185</td>\n",
              "    </tr>\n",
              "    <tr>\n",
              "      <th>7</th>\n",
              "      <td>8</td>\n",
              "      <td>Martin Van Buren</td>\n",
              "      <td>168</td>\n",
              "    </tr>\n",
              "    <tr>\n",
              "      <th>8</th>\n",
              "      <td>9</td>\n",
              "      <td>William Henry Harrison</td>\n",
              "      <td>173</td>\n",
              "    </tr>\n",
              "    <tr>\n",
              "      <th>9</th>\n",
              "      <td>10</td>\n",
              "      <td>John Tyler</td>\n",
              "      <td>183</td>\n",
              "    </tr>\n",
              "    <tr>\n",
              "      <th>10</th>\n",
              "      <td>11</td>\n",
              "      <td>James K. Polk</td>\n",
              "      <td>173</td>\n",
              "    </tr>\n",
              "    <tr>\n",
              "      <th>11</th>\n",
              "      <td>12</td>\n",
              "      <td>Zachary Taylor</td>\n",
              "      <td>173</td>\n",
              "    </tr>\n",
              "    <tr>\n",
              "      <th>12</th>\n",
              "      <td>13</td>\n",
              "      <td>Millard Fillmore</td>\n",
              "      <td>175</td>\n",
              "    </tr>\n",
              "    <tr>\n",
              "      <th>13</th>\n",
              "      <td>14</td>\n",
              "      <td>Franklin Pierce</td>\n",
              "      <td>178</td>\n",
              "    </tr>\n",
              "    <tr>\n",
              "      <th>14</th>\n",
              "      <td>15</td>\n",
              "      <td>James Buchanan</td>\n",
              "      <td>183</td>\n",
              "    </tr>\n",
              "    <tr>\n",
              "      <th>15</th>\n",
              "      <td>16</td>\n",
              "      <td>Abraham Lincoln</td>\n",
              "      <td>193</td>\n",
              "    </tr>\n",
              "    <tr>\n",
              "      <th>16</th>\n",
              "      <td>17</td>\n",
              "      <td>Andrew Johnson</td>\n",
              "      <td>178</td>\n",
              "    </tr>\n",
              "    <tr>\n",
              "      <th>17</th>\n",
              "      <td>18</td>\n",
              "      <td>Ulysses S. Grant</td>\n",
              "      <td>173</td>\n",
              "    </tr>\n",
              "    <tr>\n",
              "      <th>18</th>\n",
              "      <td>19</td>\n",
              "      <td>Rutherford B. Hayes</td>\n",
              "      <td>174</td>\n",
              "    </tr>\n",
              "    <tr>\n",
              "      <th>19</th>\n",
              "      <td>20</td>\n",
              "      <td>James A. Garfield</td>\n",
              "      <td>183</td>\n",
              "    </tr>\n",
              "    <tr>\n",
              "      <th>20</th>\n",
              "      <td>21</td>\n",
              "      <td>Chester A. Arthur</td>\n",
              "      <td>183</td>\n",
              "    </tr>\n",
              "    <tr>\n",
              "      <th>21</th>\n",
              "      <td>23</td>\n",
              "      <td>Benjamin Harrison</td>\n",
              "      <td>168</td>\n",
              "    </tr>\n",
              "    <tr>\n",
              "      <th>22</th>\n",
              "      <td>25</td>\n",
              "      <td>William McKinley</td>\n",
              "      <td>170</td>\n",
              "    </tr>\n",
              "    <tr>\n",
              "      <th>23</th>\n",
              "      <td>26</td>\n",
              "      <td>Theodore Roosevelt</td>\n",
              "      <td>178</td>\n",
              "    </tr>\n",
              "    <tr>\n",
              "      <th>24</th>\n",
              "      <td>27</td>\n",
              "      <td>William Howard Taft</td>\n",
              "      <td>182</td>\n",
              "    </tr>\n",
              "    <tr>\n",
              "      <th>25</th>\n",
              "      <td>28</td>\n",
              "      <td>Woodrow Wilson</td>\n",
              "      <td>180</td>\n",
              "    </tr>\n",
              "    <tr>\n",
              "      <th>26</th>\n",
              "      <td>29</td>\n",
              "      <td>Warren G. Harding</td>\n",
              "      <td>183</td>\n",
              "    </tr>\n",
              "    <tr>\n",
              "      <th>27</th>\n",
              "      <td>30</td>\n",
              "      <td>Calvin Coolidge</td>\n",
              "      <td>178</td>\n",
              "    </tr>\n",
              "    <tr>\n",
              "      <th>28</th>\n",
              "      <td>31</td>\n",
              "      <td>Herbert Hoover</td>\n",
              "      <td>182</td>\n",
              "    </tr>\n",
              "    <tr>\n",
              "      <th>29</th>\n",
              "      <td>32</td>\n",
              "      <td>Franklin D. Roosevelt</td>\n",
              "      <td>188</td>\n",
              "    </tr>\n",
              "    <tr>\n",
              "      <th>30</th>\n",
              "      <td>33</td>\n",
              "      <td>Harry S. Truman</td>\n",
              "      <td>175</td>\n",
              "    </tr>\n",
              "    <tr>\n",
              "      <th>31</th>\n",
              "      <td>34</td>\n",
              "      <td>Dwight D. Eisenhower</td>\n",
              "      <td>179</td>\n",
              "    </tr>\n",
              "    <tr>\n",
              "      <th>32</th>\n",
              "      <td>35</td>\n",
              "      <td>John F. Kennedy</td>\n",
              "      <td>183</td>\n",
              "    </tr>\n",
              "    <tr>\n",
              "      <th>33</th>\n",
              "      <td>36</td>\n",
              "      <td>Lyndon B. Johnson</td>\n",
              "      <td>193</td>\n",
              "    </tr>\n",
              "    <tr>\n",
              "      <th>34</th>\n",
              "      <td>37</td>\n",
              "      <td>Richard Nixon</td>\n",
              "      <td>182</td>\n",
              "    </tr>\n",
              "    <tr>\n",
              "      <th>35</th>\n",
              "      <td>38</td>\n",
              "      <td>Gerald Ford</td>\n",
              "      <td>183</td>\n",
              "    </tr>\n",
              "    <tr>\n",
              "      <th>36</th>\n",
              "      <td>39</td>\n",
              "      <td>Jimmy Carter</td>\n",
              "      <td>177</td>\n",
              "    </tr>\n",
              "    <tr>\n",
              "      <th>37</th>\n",
              "      <td>40</td>\n",
              "      <td>Ronald Reagan</td>\n",
              "      <td>185</td>\n",
              "    </tr>\n",
              "    <tr>\n",
              "      <th>38</th>\n",
              "      <td>41</td>\n",
              "      <td>George H. W. Bush</td>\n",
              "      <td>188</td>\n",
              "    </tr>\n",
              "    <tr>\n",
              "      <th>39</th>\n",
              "      <td>42</td>\n",
              "      <td>Bill Clinton</td>\n",
              "      <td>188</td>\n",
              "    </tr>\n",
              "    <tr>\n",
              "      <th>40</th>\n",
              "      <td>43</td>\n",
              "      <td>George W. Bush</td>\n",
              "      <td>182</td>\n",
              "    </tr>\n",
              "    <tr>\n",
              "      <th>41</th>\n",
              "      <td>44</td>\n",
              "      <td>Barack Obama</td>\n",
              "      <td>185</td>\n",
              "    </tr>\n",
              "  </tbody>\n",
              "</table>\n",
              "</div>"
            ],
            "text/plain": [
              "    order                    name  height(cm)\n",
              "0       1       George Washington         189\n",
              "1       2              John Adams         170\n",
              "2       3        Thomas Jefferson         189\n",
              "3       4           James Madison         163\n",
              "4       5            James Monroe         183\n",
              "5       6       John Quincy Adams         171\n",
              "6       7          Andrew Jackson         185\n",
              "7       8        Martin Van Buren         168\n",
              "8       9  William Henry Harrison         173\n",
              "9      10              John Tyler         183\n",
              "10     11           James K. Polk         173\n",
              "11     12          Zachary Taylor         173\n",
              "12     13        Millard Fillmore         175\n",
              "13     14         Franklin Pierce         178\n",
              "14     15          James Buchanan         183\n",
              "15     16         Abraham Lincoln         193\n",
              "16     17          Andrew Johnson         178\n",
              "17     18        Ulysses S. Grant         173\n",
              "18     19     Rutherford B. Hayes         174\n",
              "19     20       James A. Garfield         183\n",
              "20     21       Chester A. Arthur         183\n",
              "21     23       Benjamin Harrison         168\n",
              "22     25        William McKinley         170\n",
              "23     26      Theodore Roosevelt         178\n",
              "24     27     William Howard Taft         182\n",
              "25     28          Woodrow Wilson         180\n",
              "26     29       Warren G. Harding         183\n",
              "27     30         Calvin Coolidge         178\n",
              "28     31          Herbert Hoover         182\n",
              "29     32   Franklin D. Roosevelt         188\n",
              "30     33         Harry S. Truman         175\n",
              "31     34    Dwight D. Eisenhower         179\n",
              "32     35         John F. Kennedy         183\n",
              "33     36       Lyndon B. Johnson         193\n",
              "34     37           Richard Nixon         182\n",
              "35     38             Gerald Ford         183\n",
              "36     39            Jimmy Carter         177\n",
              "37     40           Ronald Reagan         185\n",
              "38     41       George H. W. Bush         188\n",
              "39     42            Bill Clinton         188\n",
              "40     43          George W. Bush         182\n",
              "41     44            Barack Obama         185"
            ]
          },
          "metadata": {
            "tags": []
          },
          "execution_count": 2
        }
      ]
    },
    {
      "cell_type": "markdown",
      "metadata": {
        "colab_type": "text",
        "id": "Sf9JB_ntOKTg"
      },
      "source": [
        "## Your turn! (8 points)\n",
        "\n",
        "Write code to display the histogram (4 pts) of president's heights and compute summary statistics (4 pts): \n",
        "\n",
        "- Mean height\n",
        "- Standard deviation\n",
        "- Minimum height, and \n",
        "- Maximum height."
      ]
    },
    {
      "cell_type": "markdown",
      "metadata": {
        "colab_type": "text",
        "id": "tdOZPjis7Phf"
      },
      "source": [
        "## Solution"
      ]
    },
    {
      "cell_type": "code",
      "metadata": {
        "colab_type": "code",
        "id": "BQkN1WvQOKTi",
        "colab": {},
        "outputId": "c5bfa6b3-8cbc-44dc-c6b4-9b385b83c59f"
      },
      "source": [
        "# ENTER YOUR CODE HERE\n",
        "# ...\n",
        "# ...\n",
        "# ...\n",
        "#179.73809523809524  mean\n",
        "#7.015868855358296  std\n",
        "#163 min\n",
        "#193 max\n",
        "print('mean:',presidents['height(cm)'].mean(),' standard dev:', presidents['height(cm)'].std())\n",
        "print('min:', presidents['height(cm)'].min(),' max:',presidents['height(cm)'].max())\n",
        "%matplotlib inline\n",
        "presidents['height(cm)'].hist()\n"
      ],
      "execution_count": 0,
      "outputs": [
        {
          "output_type": "stream",
          "text": [
            "mean: 179.73809523809524  standard dev: 7.015868855358296\n",
            "min: 163  max: 193\n"
          ],
          "name": "stdout"
        },
        {
          "output_type": "execute_result",
          "data": {
            "text/plain": [
              "<matplotlib.axes._subplots.AxesSubplot at 0x1a25acd5f60>"
            ]
          },
          "metadata": {
            "tags": []
          },
          "execution_count": 3
        },
        {
          "output_type": "display_data",
          "data": {
            "image/png": "[encoded data removed]",
            "text/plain": [
              "<Figure size 432x288 with 1 Axes>"
            ]
          },
          "metadata": {
            "tags": [],
            "needs_background": "light"
          }
        }
      ]
    },
    {
      "cell_type": "markdown",
      "metadata": {
        "colab_type": "text",
        "id": "BbUZtqu7OKTl"
      },
      "source": [
        "## Your turn! (18 points)\n",
        "\n",
        "Write Python code to answer the following questions (make sure the messages displayed by your code are complete and descriptive enough):\n",
        "\n",
        "1. Who was(were) the tallest president(s)?\n",
        "2. Who was(were) the shortest president(s)?\n",
        "3. How many presidents were 6' tall or taller?"
      ]
    },
    {
      "cell_type": "markdown",
      "metadata": {
        "colab_type": "text",
        "id": "eWDwcuiz7Wiz"
      },
      "source": [
        "## Solution"
      ]
    },
    {
      "cell_type": "code",
      "metadata": {
        "colab_type": "code",
        "id": "ZZqA7kEWOKTl",
        "colab": {},
        "outputId": "99922cc1-5c69-4f81-94d1-23c0ea6ec1bc"
      },
      "source": [
        "# ENTER YOUR CODE HERE\n",
        "# ...\n",
        "# ...\n",
        "# ...\n",
        "print(presidents.loc[presidents['height(cm)']==presidents['height(cm)'].max()]) #Abraham Lincoln and Lyndon B. Johnson\n",
        "print(presidents.loc[presidents['height(cm)']== presidents['height(cm)'].min()]) #James Madison\n",
        "print(len(presidents.loc[presidents['height(cm)']>=182.88])) #18"
      ],
      "execution_count": 0,
      "outputs": [
        {
          "output_type": "stream",
          "text": [
            "    order               name  height(cm)\n",
            "15     16    Abraham Lincoln         193\n",
            "33     36  Lyndon B. Johnson         193\n",
            "   order           name  height(cm)\n",
            "3      4  James Madison         163\n",
            "18\n"
          ],
          "name": "stdout"
        }
      ]
    },
    {
      "cell_type": "markdown",
      "metadata": {
        "colab_type": "text",
        "id": "YNr4O_tHOKTn"
      },
      "source": [
        "-------------\n",
        "\n",
        "This is an extremely small, simple and manageable dataset. \n",
        "\n",
        "Let's use it to prove a silly hypotheses, for example: \n",
        "\n",
        "\"H1: Even-numbered presidents are, in average, taller than odd-numbered ones.\" "
      ]
    },
    {
      "cell_type": "markdown",
      "metadata": {
        "colab_type": "text",
        "id": "KurMrocpOKTo"
      },
      "source": [
        "## Your turn! (24 points)\n",
        "\n",
        "Write Python code to test hypothesis H1."
      ]
    },
    {
      "cell_type": "markdown",
      "metadata": {
        "colab_type": "text",
        "id": "5jY56oY97Yvp"
      },
      "source": [
        "## Solution"
      ]
    },
    {
      "cell_type": "code",
      "metadata": {
        "colab_type": "code",
        "id": "A4QFk_ktOKTo",
        "colab": {},
        "outputId": "3403a6ec-2e84-412c-a0aa-53641115787b"
      },
      "source": [
        "# ENTER YOUR CODE HERE\n",
        "# ...\n",
        "# ...\n",
        "# ...\n",
        "even=presidents[presidents['order']%2==0]\n",
        "odd=presidents[presidents['order']%2!=0]\n",
        "\n",
        "even=even.reset_index(drop=True)\n",
        "odd=odd.reset_index(drop=True)\n",
        "\n",
        "avg_height_even=round((even['height(cm)'].mean()),2)\n",
        "avg_height_odd=round((odd['height(cm)'].mean()),2)\n",
        "\n",
        "#Test hypothesis\n",
        "print(avg_height_even > avg_height_odd) #False"
      ],
      "execution_count": 0,
      "outputs": [
        {
          "output_type": "stream",
          "text": [
            "False\n"
          ],
          "name": "stdout"
        }
      ]
    },
    {
      "cell_type": "markdown",
      "metadata": {
        "colab_type": "text",
        "id": "TTEVu2FjOKTq"
      },
      "source": [
        "## Question 1 (4 points)\n",
        "\n",
        "Was hypothesis H1 confirmed or refuted?"
      ]
    },
    {
      "cell_type": "markdown",
      "metadata": {
        "colab_type": "text",
        "id": "dv-bu9a77Zit"
      },
      "source": [
        "## Solution"
      ]
    },
    {
      "cell_type": "markdown",
      "metadata": {
        "colab_type": "text",
        "id": "eOLyQdlcOKTq"
      },
      "source": [
        "(ENTER YOUR ANSWER HERE)\n",
        "\n",
        "It was False."
      ]
    },
    {
      "cell_type": "markdown",
      "metadata": {
        "colab_type": "text",
        "id": "KsQUHbQXOKTt"
      },
      "source": [
        "---------------------\n",
        "\n",
        "Now it's time for you to come up with a different (but also silly) hypotheses, which we will call H2. **Be creative!**\n",
        "\n",
        "Hypothesis 2: First 10 presidents are shorter than the rest on average."
      ]
    },
    {
      "cell_type": "markdown",
      "metadata": {
        "colab_type": "text",
        "id": "IDUa4m4hOKTu"
      },
      "source": [
        "## Your turn! (28 points)\n",
        "\n",
        "Write Python code to test hypothesis H2 (and some text to explain whether it was confirmed or not)."
      ]
    },
    {
      "cell_type": "markdown",
      "metadata": {
        "colab_type": "text",
        "id": "X2zRCH0R7bG1"
      },
      "source": [
        "## Solution"
      ]
    },
    {
      "cell_type": "code",
      "metadata": {
        "colab_type": "code",
        "id": "IfCLnKp-OKTv",
        "colab": {},
        "outputId": "d1b61f40-429d-4e71-cdea-56bd7aa63344"
      },
      "source": [
        "# ENTER YOUR CODE HERE\n",
        "# ...\n",
        "# ...\n",
        "# ...\n",
        "# Hypothesis 2: First 10 presidents are shorter than the rest on average.\n",
        "first_ten = presidents[0:10]\n",
        "first_ten_avg = first_ten['height(cm)'].mean()\n",
        "rest = presidents[10:len(presidents)]\n",
        "rest_avg = rest['height(cm)'].mean()\n",
        "print(first_ten_avg < rest_avg) #True"
      ],
      "execution_count": 0,
      "outputs": [
        {
          "output_type": "stream",
          "text": [
            "True\n"
          ],
          "name": "stdout"
        }
      ]
    },
    {
      "cell_type": "markdown",
      "metadata": {
        "colab_type": "text",
        "id": "G2J9o001OKTx"
      },
      "source": [
        "-------------------\n",
        "## Level 2: HR payroll"
      ]
    },
    {
      "cell_type": "markdown",
      "metadata": {
        "colab_type": "text",
        "id": "T1EXw38-OKTy"
      },
      "source": [
        "The Python code below will load a dataset containing the salaries and demographic data of more than 1000 employees of a hypothetical company, available in the file *salaries.csv*, which is a simple comma-separated list of labels and values."
      ]
    },
    {
      "cell_type": "code",
      "metadata": {
        "colab_type": "code",
        "id": "lv1MGinjOKTz",
        "outputId": "41985ef6-75b7-4a23-89d3-0067c285f6e8",
        "colab": {
          "base_uri": "https://localhost:8080/",
          "height": 153
        }
      },
      "source": [
        "salaries = pd.read_csv('data/salaries.csv') \n",
        "print(salaries.shape)\n",
        "print(salaries.count())"
      ],
      "execution_count": 0,
      "outputs": [
        {
          "output_type": "stream",
          "text": [
            "(1192, 6)\n",
            "earn      1192\n",
            "height    1192\n",
            "sex       1192\n",
            "ed        1192\n",
            "age       1192\n",
            "race      1192\n",
            "dtype: int64\n"
          ],
          "name": "stdout"
        }
      ]
    },
    {
      "cell_type": "markdown",
      "metadata": {
        "colab_type": "text",
        "id": "wxwNfCp1OKT2"
      },
      "source": [
        "## Question 2 (6 points)\n",
        "\n",
        "What is the meaning of each of the six variables/features stored along the columns of the dataset?"
      ]
    },
    {
      "cell_type": "markdown",
      "metadata": {
        "colab_type": "text",
        "id": "eJtlMdhL7cKa"
      },
      "source": [
        "## Solution"
      ]
    },
    {
      "cell_type": "code",
      "metadata": {
        "id": "HXM8xUCtIiMD",
        "colab_type": "code",
        "colab": {},
        "outputId": "930a3102-777a-4b64-de39-4e703eec2d84"
      },
      "source": [
        "salaries.info()\n",
        "print(type(salaries.sex[1]))\n",
        "print(type(salaries.race[1]))"
      ],
      "execution_count": 0,
      "outputs": [
        {
          "output_type": "stream",
          "text": [
            "<class 'pandas.core.frame.DataFrame'>\n",
            "RangeIndex: 1192 entries, 0 to 1191\n",
            "Data columns (total 6 columns):\n",
            "earn      1192 non-null float64\n",
            "height    1192 non-null float64\n",
            "sex       1192 non-null object\n",
            "ed        1192 non-null int64\n",
            "age       1192 non-null int64\n",
            "race      1192 non-null object\n",
            "dtypes: float64(2), int64(2), object(2)\n",
            "memory usage: 56.0+ KB\n",
            "<class 'str'>\n",
            "<class 'str'>\n"
          ],
          "name": "stdout"
        }
      ]
    },
    {
      "cell_type": "markdown",
      "metadata": {
        "colab_type": "text",
        "id": "QWu0f6VwOKT3"
      },
      "source": [
        "(ENTER YOUR ANSWER HERE)\n",
        "\n",
        "earn: float64 type\n",
        "\n",
        "height: float64 type\n",
        "\n",
        "sex: string object\n",
        "\n",
        "ed: int64 type\n",
        "\n",
        "age: int64 type\n",
        "\n",
        "race: string object"
      ]
    },
    {
      "cell_type": "markdown",
      "metadata": {
        "colab_type": "text",
        "id": "-bvyTbsZOKT4"
      },
      "source": [
        "--------------------\n",
        "\n",
        "Let's explore the dataset by plotting some graphs and displaying summary statistics. \n",
        "\n",
        "The code below should display:\n",
        "- Min, max, average, and median salary (global)\n",
        "- A histogram of salaries\n",
        "- A scatterplot correlating salaries and years of education\n",
        "- The (Pearson) correlation coefficient between the two variables.\n",
        "\n",
        "This should help us get started."
      ]
    },
    {
      "cell_type": "code",
      "metadata": {
        "colab_type": "code",
        "id": "jai0zaQ1OKT5",
        "outputId": "8dc89377-1293-4211-d637-19a84e426389",
        "colab": {
          "base_uri": "https://localhost:8080/",
          "height": 102
        }
      },
      "source": [
        "salary = np.array(salaries['earn'])\n",
        "print(\"Salary statistics\")\n",
        "print(\"Minimum salary (global):\", np.min(salary))\n",
        "print(\"Maximum salary (global):\", np.max(salary))\n",
        "print(\"Average salary (global):\", np.mean(salary))\n",
        "print(\"Median  salary (global):\", np.median(salary))"
      ],
      "execution_count": 0,
      "outputs": [
        {
          "output_type": "stream",
          "text": [
            "Salary statistics\n",
            "Minimum salary (global): 200.0\n",
            "Maximum salary (global): 200000.0\n",
            "Average salary (global): 23154.773489932886\n",
            "Median  salary (global): 20000.0\n"
          ],
          "name": "stdout"
        }
      ]
    },
    {
      "cell_type": "code",
      "metadata": {
        "colab_type": "code",
        "id": "MQSn8R8MOKT6",
        "outputId": "5d1caaa5-c74c-43df-ba49-40710e7fd06d",
        "colab": {
          "base_uri": "https://localhost:8080/",
          "height": 301
        }
      },
      "source": [
        "plt.hist(salary)\n",
        "plt.title('Salary Distribution')\n",
        "plt.xlabel('Salary')\n",
        "plt.ylabel('Number of Employees');"
      ],
      "execution_count": 0,
      "outputs": [
        {
          "output_type": "display_data",
          "data": {
            "image/png": "[encoded data removed]",
            "text/plain": [
              "<Figure size 432x288 with 1 Axes>"
            ]
          },
          "metadata": {
            "tags": [],
            "needs_background": "light"
          }
        }
      ]
    },
    {
      "cell_type": "code",
      "metadata": {
        "colab_type": "code",
        "id": "DIcrOnZ4OKT8",
        "outputId": "24f5093a-336c-4a43-abb7-7a52b7aa14be",
        "colab": {
          "base_uri": "https://localhost:8080/",
          "height": 301
        }
      },
      "source": [
        "years = np.array(salaries['ed'])\n",
        "plt.title('Salary vs. Education Level')\n",
        "plt.xlabel('Salary')\n",
        "plt.ylabel('Years of education');\n",
        "plt.scatter(salary, years, alpha=0.5)\n",
        "plt.show()"
      ],
      "execution_count": 0,
      "outputs": [
        {
          "output_type": "display_data",
          "data": {
            "image/png": "[encoded data removed]",
            "text/plain": [
              "<Figure size 432x288 with 1 Axes>"
            ]
          },
          "metadata": {
            "tags": [],
            "needs_background": "light"
          }
        }
      ]
    },
    {
      "cell_type": "code",
      "metadata": {
        "colab_type": "code",
        "id": "fllJH1rfOKT_",
        "outputId": "4370e450-b503-4231-9d2c-c5efad8f289f",
        "colab": {
          "base_uri": "https://localhost:8080/",
          "height": 34
        }
      },
      "source": [
        "# Compute Pearson coefficient\n",
        "from scipy.stats import pearsonr\n",
        "corr, _ = pearsonr(salary,years)\n",
        "print('Correlation coefficient: ',corr)"
      ],
      "execution_count": 0,
      "outputs": [
        {
          "output_type": "stream",
          "text": [
            "Correlation coefficient:  0.3399765246894845\n"
          ],
          "name": "stdout"
        }
      ]
    },
    {
      "cell_type": "markdown",
      "metadata": {
        "colab_type": "text",
        "id": "-n2_sL4UOKUA"
      },
      "source": [
        "The Pearson correlation coefficient (a value between -1 and 1) can be used to summarize the strength of the linear relationship between two data samples.\n",
        "\n",
        "A simplified way to interpret the result is:\n",
        "- A value of 0 means no correlation\n",
        "- Values below -0.5 or above 0.5 indicates a notable (negative/positive) correlation"
      ]
    },
    {
      "cell_type": "markdown",
      "metadata": {
        "colab_type": "text",
        "id": "oVXf-zPyOKUB"
      },
      "source": [
        "## Your turn! (16+ points)\n",
        "\n",
        "Write code to:\n",
        "\n",
        "1. Display the total headcount and the number (and %) of male and female employees. (4 pts)\n",
        "2. Compute and display the min, max, average, and median salary *per gender*. (12 pts)\n",
        "3. (OPTIONAL) Plot meaningful graphs that could provide insight into the gender inequality (*if any is present*) associated with the salaries in the company. (<= 16 bonus points)\n"
      ]
    },
    {
      "cell_type": "markdown",
      "metadata": {
        "colab_type": "text",
        "id": "s9c3LqKO7fBz"
      },
      "source": [
        "## Solution"
      ]
    },
    {
      "cell_type": "code",
      "metadata": {
        "colab_type": "code",
        "id": "xGq2LhvGOKUP",
        "colab": {},
        "outputId": "3dc4308c-45a6-4c23-fda1-b2b07bef0545"
      },
      "source": [
        "# ENTER YOUR CODE HERE\n",
        "# ...\n",
        "# ...\n",
        "# ...\n",
        "female_df=salaries[salaries['sex']=='female']\n",
        "male_df=salaries[salaries['sex']=='male']\n",
        "\n",
        "male_df=male_df.reset_index(drop=True)\n",
        "female_df = female_df.reset_index(drop=True)\n",
        "\n",
        "total=len(salaries)\n",
        "\n",
        "percent_male=round((len(male_df)/total),4) #42.37%\n",
        "print(\"Percent male head count: \", percent_male*100,\"%\")\n",
        "percent_female=round((len(female_df)/total),4) #57.63%\n",
        "print(\"Percent female head count: \", percent_female*100,\"%\")\n",
        "\n",
        "print(\"Gender Summary Statistics\")\n",
        "print(\"Minimum salary (male):\", male_df['earn'].min())\n",
        "print(\"Minimum salary (female):\", female_df['earn'].min())\n",
        "print(\"Maximum salary (male):\", male_df['earn'].max())\n",
        "print(\"Maximum salary (female):\", female_df['earn'].max())\n",
        "print(\"Average salary (male):\", male_df['earn'].mean())\n",
        "print(\"Average salary (female):\", female_df['earn'].mean())\n",
        "print(\"Median  salary (male):\", male_df['earn'].median())\n",
        "print(\"Median  salary (female):\", female_df['earn'].median())"
      ],
      "execution_count": 0,
      "outputs": [
        {
          "output_type": "stream",
          "text": [
            "Percent male head count:  42.370000000000005 %\n",
            "Percent female head count:  57.63 %\n",
            "Gender Summary Statistics\n",
            "Minimum salary (male): 1000.0\n",
            "Minimum salary (female): 200.0\n",
            "Maximum salary (male): 200000.0\n",
            "Maximum salary (female): 123000.0\n",
            "Average salary (male): 29786.130693069306\n",
            "Average salary (female): 18280.195050946142\n",
            "Median  salary (male): 25000.0\n",
            "Median  salary (female): 15000.0\n"
          ],
          "name": "stdout"
        }
      ]
    },
    {
      "cell_type": "code",
      "metadata": {
        "id": "01XaJLkxIiMT",
        "colab_type": "code",
        "colab": {},
        "outputId": "6607343e-50bc-4a51-8f11-b39c616ecdfc"
      },
      "source": [
        "plt.hist(female_df.earn, color='steelblue', label='Female')\n",
        "plt.hist(male_df.earn, alpha=0.5, color='green', label='Male')\n",
        "plt.title('Salary Distribution')\n",
        "plt.xlabel('Salary')\n",
        "plt.ylabel('Number of Employees: Male vs Female');\n",
        "plt.legend();"
      ],
      "execution_count": 0,
      "outputs": [
        {
          "output_type": "display_data",
          "data": {
            "image/png": "[encoded data removed]",
            "text/plain": [
              "<Figure size 432x288 with 1 Axes>"
            ]
          },
          "metadata": {
            "tags": [],
            "needs_background": "light"
          }
        }
      ]
    },
    {
      "cell_type": "code",
      "metadata": {
        "id": "GLRLjWTcIiMU",
        "colab_type": "code",
        "colab": {},
        "outputId": "740ecab5-3bf0-45bf-ab56-d6249dc2e395"
      },
      "source": [
        "years_fm = np.array(female_df['ed'])\n",
        "years_ml = np.array(male_df['ed'])\n",
        "salary_fm = np.array(female_df['earn'])\n",
        "salary_ml = np.array(male_df['earn'])\n",
        "plt.title('Salary vs. Education Level')\n",
        "plt.xlabel('Salary')\n",
        "plt.ylabel('Years of education');\n",
        "plt.scatter(salary_fm, years_fm, alpha=0.5,color='red', label='Female')\n",
        "plt.scatter(salary_ml, years_ml, alpha=0.25,color='green',label='Male')\n",
        "plt.legend()\n",
        "plt.show()"
      ],
      "execution_count": 0,
      "outputs": [
        {
          "output_type": "display_data",
          "data": {
            "image/png": "[encoded data removed]",
            "text/plain": [
              "<Figure size 432x288 with 1 Axes>"
            ]
          },
          "metadata": {
            "tags": [],
            "needs_background": "light"
          }
        }
      ]
    },
    {
      "cell_type": "markdown",
      "metadata": {
        "colab_type": "text",
        "id": "34cWPF_jOKUQ"
      },
      "source": [
        "--------------------\n",
        "\n",
        "As you can possibly tell by now, this dataset may help us test hypotheses and answer questions related to possible sources of inequality associated with the salary distribution: gender, age, race, height. \n",
        "\n",
        "Let's assume, for the sake of argument, that the number of years of education should correlate well with a person's salary (this is clearly a weak argument and the plot and Pearson correlation coefficient computation above suggests that this is *not* the case) and that other suspiciously high (positive or negative) correlations could be interpreted as a sign of inequality."
      ]
    },
    {
      "cell_type": "markdown",
      "metadata": {
        "colab_type": "text",
        "id": "R1UaYIHoOKUR"
      },
      "source": [
        "---------------------\n",
        "\n",
        "At this point, formulate 3 different hypotheses that might suggest that the salary distribution is biased by factors such as ageism. \n",
        "\n",
        "Call these hypotheses H3, H4, and H5. \n",
        "\n",
        "**Be creative, but realistic! These should be reasonable hypotheses, not silly ones!**\n",
        "\n",
        "Older you are, the more you earn.\n",
        "Your height determines what you earn.\n",
        "Your race and se determine how much you earn. \n"
      ]
    },
    {
      "cell_type": "markdown",
      "metadata": {
        "colab_type": "text",
        "id": "n8odBiXoOKUR"
      },
      "source": [
        "## Your turn! (48+ points)\n",
        "\n",
        "Write Python code to test hypotheses H3, H4, and H5 (and some text to explain whether they were confirmed or not). Feel free to (also) use plots, but make your code independent of a human being interpreting those plots. (16 pts per hypothesis with additional <= 8 bonus points per hypotheses).  "
      ]
    },
    {
      "cell_type": "markdown",
      "metadata": {
        "colab_type": "text",
        "id": "tmUifCzY7gjz"
      },
      "source": [
        "## Solution"
      ]
    },
    {
      "cell_type": "code",
      "metadata": {
        "colab_type": "code",
        "id": "YTdxHyvMOKUS",
        "colab": {},
        "outputId": "70fefa5e-5133-4597-efbe-4a1880a6a478"
      },
      "source": [
        "# ENTER YOUR CODE HERE\n",
        "# ...\n",
        "# ...\n",
        "# ...\n",
        "height = np.array(salaries['height'])\n",
        "race=np.array(salaries['race'])\n",
        "age=np.array(salaries['age'])\n",
        "\n",
        "#height has a high correlation to salary than age does, however, both are correlated. \n",
        "corr1, _ = pearsonr(salary,age)\n",
        "print('Correlation coefficient Age: ',corr1)\n",
        "\n",
        "corr3, _ = pearsonr(salary,height)\n",
        "print('Correlation coefficient Height: ',corr)\n",
        "\n",
        "# This scatter plot shows that sex and earn had a high correlation\n",
        "plt.matshow(salaries.corr())\n",
        "plt.xticks(range(len(salaries.columns)), salaries.columns)\n",
        "plt.yticks(range(len(salaries.columns)), salaries.columns)\n",
        "plt.colorbar()\n",
        "plt.show()\n",
        "\n",
        "#This shows the concentration of race and gender compared to salary earnings. \\\n",
        "# The white races in male seem to make more money than others. \n",
        "female_race=np.array(female_df['race'])\n",
        "male_race=np.array(male_df['race'])\n",
        "plt.title('Salary vs. Race Level')\n",
        "plt.xlabel('Salary')\n",
        "plt.ylabel('Years of education');\n",
        "plt.scatter(salary_fm, female_race, alpha=0.5,color='red', label='Female')\n",
        "plt.scatter(salary_ml, male_race, alpha=0.25,color='green',label='Male')\n",
        "plt.legend()\n",
        "plt.show()"
      ],
      "execution_count": 0,
      "outputs": [
        {
          "output_type": "stream",
          "text": [
            "Correlation coefficient Age:  0.08100297364190615\n",
            "Correlation coefficient Height:  0.3399765246894845\n"
          ],
          "name": "stdout"
        },
        {
          "output_type": "display_data",
          "data": {
            "image/png": "[encoded data removed]",
            "text/plain": [
              "<Figure size 288x288 with 2 Axes>"
            ]
          },
          "metadata": {
            "tags": [],
            "needs_background": "light"
          }
        },
        {
          "output_type": "display_data",
          "data": {
            "image/png": "[encoded data removed]",
            "text/plain": [
              "<Figure size 432x288 with 1 Axes>"
            ]
          },
          "metadata": {
            "tags": [],
            "needs_background": "light"
          }
        }
      ]
    },
    {
      "cell_type": "markdown",
      "metadata": {
        "colab_type": "text",
        "id": "fiXV2xUI7lUZ"
      },
      "source": [
        "-------------------\n",
        "## Level 3: Fuel consumption"
      ]
    },
    {
      "cell_type": "markdown",
      "metadata": {
        "colab_type": "text",
        "id": "0EDk6NGk8YsH"
      },
      "source": [
        "The Python code below will load a dataset containing fuel consumption data for ~400 vehicles produced in the 1970s and the 1980s along with some characteristic information associated with each model. \n",
        "\n",
        "Here, *displacement* refers to a vehicle's engine size and the fuel efficiency is measured in miles per gallon (mpg).\n",
        "\n",
        "See:\n",
        "https://archive.ics.uci.edu/ml/datasets/Auto+MPG for additional information."
      ]
    },
    {
      "cell_type": "code",
      "metadata": {
        "colab_type": "code",
        "id": "4dkSabDG5gjc",
        "outputId": "3c3cdd00-171e-4e91-9bcc-67f79eceeb70",
        "colab": {
          "base_uri": "https://localhost:8080/",
          "height": 34
        }
      },
      "source": [
        "sns.set(style='ticks', palette='Set2')\n",
        "%matplotlib inline\n",
        "\n",
        "data = pd.read_csv(\"http://archive.ics.uci.edu/ml/machine-learning-databases/auto-mpg/auto-mpg.data-original\",\n",
        "                   delim_whitespace = True, header=None,\n",
        "                   names = ['mpg', 'cylinders', 'displacement', 'horsepower', 'weight', 'acceleration',\n",
        "                            'model', 'origin', 'car_name'])\n",
        "print(data.shape)\n",
        "# df1 = data[data.isna().any(axis=1)]\n",
        "# print(df1) ## 14 rows returned with NaN values "
      ],
      "execution_count": 0,
      "outputs": [
        {
          "output_type": "stream",
          "text": [
            "(406, 9)\n"
          ],
          "name": "stdout"
        }
      ]
    },
    {
      "cell_type": "code",
      "metadata": {
        "colab_type": "code",
        "id": "WVNr-0SxD7Ai",
        "outputId": "c94ffa72-a01b-45b8-eb19-5b16b60f2798",
        "colab": {
          "base_uri": "https://localhost:8080/",
          "height": 204
        }
      },
      "source": [
        "data.dropna(inplace=True)\n",
        "data.head()\n",
        "# df2 = data[data.isna().any(axis=1)]\n",
        "# print(df2) ## there could be no columns returned becaue NaN is dropped\n",
        "data.shape"
      ],
      "execution_count": 0,
      "outputs": [
        {
          "output_type": "execute_result",
          "data": {
            "text/plain": [
              "(392, 9)"
            ]
          },
          "metadata": {
            "tags": []
          },
          "execution_count": 18
        }
      ]
    },
    {
      "cell_type": "markdown",
      "metadata": {
        "colab_type": "text",
        "id": "QtjTzR09-PyS"
      },
      "source": [
        "## Question 3 (6 points)\n",
        "\n",
        "What was the net effect of the line of code\n",
        "\n",
        "``data.dropna(inplace=True)``?"
      ]
    },
    {
      "cell_type": "markdown",
      "metadata": {
        "colab_type": "text",
        "id": "RRG5lAHB-PyV"
      },
      "source": [
        "## Solution"
      ]
    },
    {
      "cell_type": "markdown",
      "metadata": {
        "colab_type": "text",
        "id": "YxJNmDgn-PyW"
      },
      "source": [
        "(ENTER YOUR ANSWER HERE)\n",
        "\n",
        "Drops the rows where Na is included and then resets the index in place. If row three has a Na, then that row is dropped and then the index would read (1,2,4,5), so the inplace rests the remaining contents index (1,2,3,4). In other words, the data is renamed in place. "
      ]
    },
    {
      "cell_type": "markdown",
      "metadata": {
        "colab_type": "text",
        "id": "MArizMt0_P1A"
      },
      "source": [
        "## Your turn! (18+ points)\n",
        "\n",
        "Write code to:\n",
        "\n",
        "1. Count the number of 3- and 5-cylinder vehicles in the dataset, display the count, and discard those entries (rows). (12 pts)\n",
        "2. Compute and display the min, max, and average fuel consumption (in mpg) for 4-, 6-, and 8-cylinder vehicles. (6 pts)\n",
        "3. (OPTIONAL) Display the name of the most and least fuel efficient vehicles in the dataset (<= 4 points)\n"
      ]
    },
    {
      "cell_type": "markdown",
      "metadata": {
        "colab_type": "text",
        "id": "BTExQawjAIuU"
      },
      "source": [
        "## Solution"
      ]
    },
    {
      "cell_type": "code",
      "metadata": {
        "colab_type": "code",
        "id": "d4jcQfb2AIub",
        "colab": {},
        "outputId": "8e5fbc8a-751f-4d0c-b3c0-7095b245dab5"
      },
      "source": [
        "# ENTER YOUR CODE HERE\n",
        "# ...\n",
        "# ...\n",
        "# ...\n",
        "count=len(data[(data['cylinders']==3.0) | (data['cylinders']==5.0)])\n",
        "data=data.drop(data[(data['cylinders']==3.0) | (data['cylinders']==5.0)].index)\n",
        "\n",
        "holder=data.loc[(data['cylinders'] == 4.0) | (data['cylinders'] == 6.0) | (data['cylinders'] == 8.0)]\n",
        "print(\"Average: \", holder.mpg.mean())\n",
        "print(\"Min: \", holder.mpg.min())\n",
        "print(\"Max: \", holder.mpg.max())\n",
        "print(\"Min: \",\"\\n\",holder.loc[holder['mpg']==holder.mpg.min()])\n",
        "print(\"Max:\",\"\\n\", holder.loc[holder['mpg']==holder.mpg.max()])\n",
        "print(\"Number of 3.0 and 5.0 cylinder: \", count)\n"
      ],
      "execution_count": 0,
      "outputs": [
        {
          "output_type": "stream",
          "text": [
            "Average:  23.445454545454545\n",
            "Min:  9.0\n",
            "Max:  46.6\n",
            "Min:  \n",
            "     mpg  cylinders  displacement  horsepower  weight  acceleration  model  \\\n",
            "34  9.0        8.0         304.0       193.0  4732.0          18.5   70.0   \n",
            "\n",
            "    origin  car_name  \n",
            "34     1.0  hi 1200d  \n",
            "Max: \n",
            "       mpg  cylinders  displacement  horsepower  weight  acceleration  model  \\\n",
            "329  46.6        4.0          86.0        65.0  2110.0          17.9   80.0   \n",
            "\n",
            "     origin   car_name  \n",
            "329     3.0  mazda glc  \n",
            "Number of 3.0 and 5.0 cylinder:  7\n"
          ],
          "name": "stdout"
        }
      ]
    },
    {
      "cell_type": "markdown",
      "metadata": {
        "colab_type": "text",
        "id": "KCU0fOaqAaIJ"
      },
      "source": [
        "--------------------\n",
        "\n",
        "This dataset may help us test hypotheses and answer questions related to fuel consumption. \n",
        "\n",
        "To get started: Which features of a vehicle correlate best with its mpg --  *displacement*, *weight*, or *horsepower*?"
      ]
    },
    {
      "cell_type": "markdown",
      "metadata": {
        "colab_type": "text",
        "id": "rzrD2ZFgAaIM"
      },
      "source": [
        "## Your turn! (48 points)\n",
        "\n",
        "Write Python code to plot the relationship between:\n",
        "\n",
        "1. Fuel consumption and displacement (engine size)\n",
        "2. Fuel consumption and weight\n",
        "3. Fuel consumption and horsepower (HP)\n"
      ]
    },
    {
      "cell_type": "markdown",
      "metadata": {
        "colab_type": "text",
        "id": "12jR1y-0AaIN"
      },
      "source": [
        "## Solution"
      ]
    },
    {
      "cell_type": "code",
      "metadata": {
        "colab_type": "code",
        "id": "MEXtqJIsAaIO",
        "colab": {},
        "outputId": "e04a535f-48fc-4b19-f85f-c7ca8c970a9d"
      },
      "source": [
        "# ENTER YOUR CODE HERE\n",
        "# ...\n",
        "# ...\n",
        "# ...\n",
        "mpg=data['mpg']\n",
        "dis=data['displacement']\n",
        "weight=data['weight']\n",
        "hp=data['horsepower']\n",
        "\n",
        "plt.scatter(mpg,dis,color='orange', label='displacement')\n",
        "plt.scatter(mpg,weight, color='blue', label='weight')\n",
        "plt.scatter(mpg,hp, color='green', label='horsepower')\n",
        "plt.xlabel('MPG')\n",
        "plt.legend()\n",
        "plt.show()"
      ],
      "execution_count": 0,
      "outputs": [
        {
          "output_type": "display_data",
          "data": {
            "image/png": "[encoded data removed]",
            "text/plain": [
              "<Figure size 432x288 with 1 Axes>"
            ]
          },
          "metadata": {
            "tags": [],
            "needs_background": "light"
          }
        }
      ]
    },
    {
      "cell_type": "code",
      "metadata": {
        "id": "QL07lUp-IiMp",
        "colab_type": "code",
        "colab": {},
        "outputId": "7960cbf2-2889-4317-cb64-ef5f5f760251"
      },
      "source": [
        "plt.scatter(mpg,dis,color='orange', label='displacement')\n",
        "plt.xlabel('MPG')\n",
        "plt.legend()\n",
        "plt.show()"
      ],
      "execution_count": 0,
      "outputs": [
        {
          "output_type": "display_data",
          "data": {
            "image/png": "[encoded data removed]",
            "text/plain": [
              "<Figure size 432x288 with 1 Axes>"
            ]
          },
          "metadata": {
            "tags": [],
            "needs_background": "light"
          }
        }
      ]
    },
    {
      "cell_type": "code",
      "metadata": {
        "id": "WTXzhLmQIiMr",
        "colab_type": "code",
        "colab": {},
        "outputId": "c4b6c2bc-3f9e-4577-f4ce-2f82c1ca65c9"
      },
      "source": [
        "plt.scatter(mpg,weight, color='blue', label='weight')\n",
        "plt.xlabel('MPG')\n",
        "plt.legend()\n",
        "plt.show()"
      ],
      "execution_count": 0,
      "outputs": [
        {
          "output_type": "display_data",
          "data": {
            "image/png": "[encoded data removed]",
            "text/plain": [
              "<Figure size 432x288 with 1 Axes>"
            ]
          },
          "metadata": {
            "tags": [],
            "needs_background": "light"
          }
        }
      ]
    },
    {
      "cell_type": "code",
      "metadata": {
        "id": "qIjF05_cIiMt",
        "colab_type": "code",
        "colab": {},
        "outputId": "eec7c73e-8429-440f-f043-783d04f6f87c"
      },
      "source": [
        "plt.scatter(mpg,hp, color='green', label='horsepower')\n",
        "plt.xlabel('MPG')\n",
        "plt.legend()\n",
        "plt.show()"
      ],
      "execution_count": 0,
      "outputs": [
        {
          "output_type": "display_data",
          "data": {
            "image/png": "[encoded data removed]",
            "text/plain": [
              "<Figure size 432x288 with 1 Axes>"
            ]
          },
          "metadata": {
            "tags": [],
            "needs_background": "light"
          }
        }
      ]
    },
    {
      "cell_type": "code",
      "metadata": {
        "id": "krLI0tmJIiMw",
        "colab_type": "code",
        "colab": {},
        "outputId": "22979711-e9ad-4683-adc8-774674137e21"
      },
      "source": [
        "plt.matshow(data.corr())\n",
        "plt.xticks(range(len(data.columns)), data.columns)\n",
        "plt.yticks(range(len(data.columns)), data.columns)\n",
        "plt.colorbar()\n",
        "plt.show()\n",
        "corr4, _ = pearsonr(data.mpg,data.displacement)\n",
        "print('Correlation coefficient  Displacement: ',corr4)\n",
        "corr5, _ = pearsonr(data.mpg,data.weight)\n",
        "print('Correlation coefficient Weight: ',corr5)\n",
        "corr6, _ = pearsonr(data.mpg,data.horsepower)\n",
        "print('Correlation coefficient Horsepower: ',corr6)"
      ],
      "execution_count": 0,
      "outputs": [
        {
          "output_type": "display_data",
          "data": {
            "image/png": "[encoded data removed]",
            "text/plain": [
              "<Figure size 288x288 with 2 Axes>"
            ]
          },
          "metadata": {
            "tags": [],
            "needs_background": "light"
          }
        },
        {
          "output_type": "stream",
          "text": [
            "Correlation coefficient  Displacement:  -0.817887362940059\n",
            "Correlation coefficient Weight:  -0.8426809031318667\n",
            "Correlation coefficient Horsepower:  -0.7802588157322385\n"
          ],
          "name": "stdout"
        }
      ]
    },
    {
      "cell_type": "markdown",
      "metadata": {
        "colab_type": "text",
        "id": "_VPbGcGrFSEH"
      },
      "source": [
        "## Questions 4-6 (30 points, i.e. 10 points each)\n",
        "\n",
        "For each of the three cases above, use the plots to answer the questions below:\n",
        "\n",
        "4. Is there a correlation between mpg and displacement? If so: is it positive or negative? linear or non-linear?\n",
        "\n",
        "\n",
        "5. Is there a correlation between mpg and weight? If so: is it positive or negative? linear or non-linear?\n",
        "\n",
        "\n",
        "6. Is there a correlation between mpg and horsepower? If so: is it positive or negative? linear or non-linear?\n",
        "\n",
        "\n"
      ]
    },
    {
      "cell_type": "markdown",
      "metadata": {
        "colab_type": "text",
        "id": "lLqwEM9sDI0E"
      },
      "source": [
        "## Solution"
      ]
    },
    {
      "cell_type": "markdown",
      "metadata": {
        "colab_type": "text",
        "id": "UJwFE9B9DI0H"
      },
      "source": [
        "(ENTER YOUR ANSWERS HERE)\n",
        "\n",
        "4. Is there a correlation between mpg and displacement? If so: is it positive or negative? linear or non-linear?\n",
        "\n",
        "Negative non-linear correlation.\n",
        "\n",
        "5. Is there a correlation between mpg and weight? If so: is it positive or negative? linear or non-linear?\n",
        "\n",
        "Yes negative non-linear correlation. \n",
        "\n",
        "6. Is there a correlation between mpg and horsepower? If so: is it positive or negative? linear or non-linear?\n",
        "\n",
        "yes negative non-linear correlation. \n",
        "\n"
      ]
    },
    {
      "cell_type": "markdown",
      "metadata": {
        "colab_type": "text",
        "id": "0n9yctP0CmC9"
      },
      "source": [
        "## Questions 7-8 (30 points, i.e. 15 points each)\n",
        "\n",
        "Write Python code to produce (box)plots that should provide good answers the questions below:\n",
        "\n",
        "7. Did vehicles get more efficient over the years (represented in this dataset, i.e., 1970 through 1982)?\n",
        "8. Are Japanese cars more fuel efficient than American or European ones?\n",
        "\n",
        "Hint: \n",
        "\n",
        "``data['Country_code'] = data.origin.replace([1,2,3],['USA','Europe','Japan'])``\n",
        "\n"
      ]
    },
    {
      "cell_type": "markdown",
      "metadata": {
        "colab_type": "text",
        "id": "fK18FNLpIRW9"
      },
      "source": [
        "## Solution"
      ]
    },
    {
      "cell_type": "code",
      "metadata": {
        "colab_type": "code",
        "id": "J4Y4hYkAIRXA",
        "colab": {},
        "outputId": "33705459-0183-40c8-d0fe-03e3efaeb459"
      },
      "source": [
        "# ENTER YOUR CODE HERE\n",
        "# ...\n",
        "# ...\n",
        "# ...\n",
        "\n",
        "data.model.unique()\n",
        "m70 = data.loc[data['model'] == 70.]\n",
        "m71=data.loc[data['model'] == 71.]\n",
        "m72=data.loc[data['model'] == 72.]\n",
        "m73 = data.loc[data['model'] == 73.]\n",
        "m74=data.loc[data['model'] == 74.]\n",
        "m75=data.loc[data['model'] == 75.]\n",
        "m76 = data.loc[data['model'] == 76.]\n",
        "m77=data.loc[data['model'] == 77.]\n",
        "m78=data.loc[data['model'] == 78.]\n",
        "m79 = data.loc[data['model'] == 79.]\n",
        "m80=data.loc[data['model'] == 80.]\n",
        "m81=data.loc[data['model'] == 81.]\n",
        "m82=data.loc[data['model'] == 82.]\n",
        "box_plot_data=[m70.mpg,m71.mpg,m72.mpg,m73.mpg,m74.mpg,m75.mpg,m76.mpg,m77.mpg,m78.mpg,m79.mpg,m80.mpg,m81.mpg,m82.mpg] \n",
        "plt.boxplot(box_plot_data,patch_artist=True,labels=['m70','m71','m72','m73','m74','m75','m76','m77','m78','m79','m80','m81','m82'])\n",
        "plt.show()\n",
        "# In general, vehicles became more fuel efficient over time, but it is not a linear relationship. \n",
        "# The 80's had the most fuel efficient cars."
      ],
      "execution_count": 0,
      "outputs": [
        {
          "output_type": "display_data",
          "data": {
            "image/png": "[encoded data removed]",
            "text/plain": [
              "<Figure size 432x288 with 1 Axes>"
            ]
          },
          "metadata": {
            "tags": [],
            "needs_background": "light"
          }
        }
      ]
    },
    {
      "cell_type": "code",
      "metadata": {
        "id": "IrhEvZYkIiM4",
        "colab_type": "code",
        "colab": {},
        "outputId": "345a644f-82a5-47b2-d105-e026ac8e9752"
      },
      "source": [
        "data['country_code'] = data.origin.replace([1,2,3],['USA','Europe','Japan'])\n",
        "# data.info()\n",
        "# holder=newData.loc[(newData['cylinders'] == 4.0) | (newData['cylinders'] == 6.0) | (newData['cylinders'] == 8.0)]\n",
        "usa = data.loc[data['origin'] == 1]\n",
        "europe=data.loc[data['origin'] == 2]\n",
        "japan=data.loc[data['origin'] == 3]\n",
        "box_plot_data=[usa.mpg,europe.mpg,japan.mpg]\n",
        "plt.boxplot(box_plot_data,patch_artist=True,labels=['USA','Europe','Japan'])\n",
        "plt.show()\n",
        "# In general, the Japanese cars are more fuel efficient than American and European."
      ],
      "execution_count": 0,
      "outputs": [
        {
          "output_type": "display_data",
          "data": {
            "image/png": "[encoded data removed]",
            "text/plain": [
              "<Figure size 432x288 with 1 Axes>"
            ]
          },
          "metadata": {
            "tags": [],
            "needs_background": "light"
          }
        }
      ]
    },
    {
      "cell_type": "markdown",
      "metadata": {
        "colab_type": "text",
        "id": "GLi0m9uuKkpD"
      },
      "source": [
        "## Conclusions (36 points)\n",
        "\n",
        "Write your conclusions and make sure to address the issues below:\n",
        "- What have you learned from this assignment?\n",
        "- Which parts were the most fun, time-consuming, enlightening, tedious?\n",
        "- What would you do if you had an additional week to work on this?"
      ]
    },
    {
      "cell_type": "markdown",
      "metadata": {
        "colab_type": "text",
        "id": "tmRWLHo5K99F"
      },
      "source": [
        "## Solution"
      ]
    },
    {
      "cell_type": "markdown",
      "metadata": {
        "colab_type": "text",
        "id": "ug_U9rd3K99G"
      },
      "source": [
        "(WRITE YOUR CONCLUSIONS HERE)\n",
        "\n",
        " I learned to visualize data in a meaningful way from extracting information from tabular data.\n",
        " \n",
        " The most fun was to plot the correlations in a color map. The most tedious was to isolated the necesssary information (like seperating the information if female or male). The most enlightening was to figure out the graphs to explain conclusions gathered from the data. The most time consuming was cleaning up the code. \n",
        " \n",
        " If I had an additional week to work on this, I would probably play with the idea of making a statistical model to gain new insights on the data and figure out more ways to get meaningful measurements. "
      ]
    }
  ]
}